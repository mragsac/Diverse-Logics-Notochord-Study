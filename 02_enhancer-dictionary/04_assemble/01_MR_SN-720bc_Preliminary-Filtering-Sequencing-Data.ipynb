{
 "cells": [
  {
   "cell_type": "markdown",
   "id": "defensive-civilization",
   "metadata": {},
   "source": [
    "# Preliminary Filtering of the Dictionary Sequencing Data\n",
    "\n",
    "**Author:** Michelle Franc Ragsac (mragsac@eng.ucsd.edu) \n",
    "\n",
    "### Import Necessary Packages"
   ]
  },
  {
   "cell_type": "code",
   "execution_count": 1,
   "id": "necessary-chick",
   "metadata": {},
   "outputs": [],
   "source": [
    "import numpy as np\n",
    "import pandas as pd\n",
    "import pickle\n",
    "\n",
    "import matplotlib.pyplot as plt\n",
    "%matplotlib inline\n",
    "\n",
    "pd.set_option('mode.chained_assignment', None) # disable the setting with copy parning"
   ]
  },
  {
   "cell_type": "markdown",
   "id": "chief-azerbaijan",
   "metadata": {},
   "source": [
    "---"
   ]
  },
  {
   "cell_type": "markdown",
   "id": "fifty-cheat",
   "metadata": {},
   "source": [
    "## Import the FLASH-Combined, Collapsed Datasets "
   ]
  },
  {
   "cell_type": "code",
   "execution_count": 2,
   "id": "israeli-stress",
   "metadata": {},
   "outputs": [],
   "source": [
    "df1 = pd.read_csv('../03_collapse/SN_720bc_Rep_1.extendedFrags_collapsed.txt',header=None,sep='\\t')\n",
    "df2 = pd.read_csv('../03_collapse/SN_720bc_Rep_2.extendedFrags_collapsed.txt',header=None,sep='\\t')"
   ]
  },
  {
   "cell_type": "code",
   "execution_count": 3,
   "id": "auburn-integral",
   "metadata": {},
   "outputs": [
    {
     "name": "stdout",
     "output_type": "stream",
     "text": [
      "Replicate 1: There are 94684 unique sequences in the dictionary (2979081 reads)\n",
      "Replicate 2: There are 95636 unique sequences in the dictionary (3093925 reads)\n"
     ]
    }
   ],
   "source": [
    "# Rename the columns for both dataframes\n",
    "df1.columns = ['Raw_Sequence','Raw_Counts']\n",
    "df2.columns = ['Raw_Sequence','Raw_Counts']\n",
    "\n",
    "# Sort the values for both dataframes\n",
    "print(f\"Replicate 1: There are {df1.shape[0]} unique sequences in the dictionary ({df1['Raw_Counts'].sum()} reads)\")\n",
    "print(f\"Replicate 2: There are {df2.shape[0]} unique sequences in the dictionary ({df2['Raw_Counts'].sum()} reads)\")"
   ]
  },
  {
   "cell_type": "markdown",
   "id": "every-columbia",
   "metadata": {},
   "source": [
    "---"
   ]
  },
  {
   "cell_type": "markdown",
   "id": "center-heather",
   "metadata": {},
   "source": [
    "## Combine Both Replicates into a Single Dataframe, `df`"
   ]
  },
  {
   "cell_type": "code",
   "execution_count": 4,
   "id": "effective-cemetery",
   "metadata": {},
   "outputs": [
    {
     "data": {
      "text/html": [
       "<div>\n",
       "<style scoped>\n",
       "    .dataframe tbody tr th:only-of-type {\n",
       "        vertical-align: middle;\n",
       "    }\n",
       "\n",
       "    .dataframe tbody tr th {\n",
       "        vertical-align: top;\n",
       "    }\n",
       "\n",
       "    .dataframe thead th {\n",
       "        text-align: right;\n",
       "    }\n",
       "</style>\n",
       "<table border=\"1\" class=\"dataframe\">\n",
       "  <thead>\n",
       "    <tr style=\"text-align: right;\">\n",
       "      <th></th>\n",
       "      <th>Raw_Sequence</th>\n",
       "      <th>Raw_Counts_Rep1</th>\n",
       "      <th>Raw_Counts_Rep2</th>\n",
       "    </tr>\n",
       "  </thead>\n",
       "  <tbody>\n",
       "    <tr>\n",
       "      <th>0</th>\n",
       "      <td>CAACGGGACCACAGCCGGCTAAAGCTTCGTACTAGCTCAATTGGGT...</td>\n",
       "      <td>12498.0</td>\n",
       "      <td>12964.0</td>\n",
       "    </tr>\n",
       "    <tr>\n",
       "      <th>1</th>\n",
       "      <td>AAGCCAGGCGCAAAACAGCGAATGTGAAACACTAGCTCGACTTTCT...</td>\n",
       "      <td>1819.0</td>\n",
       "      <td>1802.0</td>\n",
       "    </tr>\n",
       "    <tr>\n",
       "      <th>2</th>\n",
       "      <td>CGGGAAACAAGCAAATGTACGACAATATGAACTAGCTCGATTAATC...</td>\n",
       "      <td>2790.0</td>\n",
       "      <td>2740.0</td>\n",
       "    </tr>\n",
       "    <tr>\n",
       "      <th>3</th>\n",
       "      <td>ATATTGAATACGTAGACGACATAGATGCTCACTAGCTCATAGTTTA...</td>\n",
       "      <td>5508.0</td>\n",
       "      <td>5925.0</td>\n",
       "    </tr>\n",
       "    <tr>\n",
       "      <th>4</th>\n",
       "      <td>ATGGCATGAAATGGGCGACCAGAGACACTCACTAGCTCGCACCTTA...</td>\n",
       "      <td>3932.0</td>\n",
       "      <td>3755.0</td>\n",
       "    </tr>\n",
       "  </tbody>\n",
       "</table>\n",
       "</div>"
      ],
      "text/plain": [
       "                                        Raw_Sequence  Raw_Counts_Rep1  \\\n",
       "0  CAACGGGACCACAGCCGGCTAAAGCTTCGTACTAGCTCAATTGGGT...          12498.0   \n",
       "1  AAGCCAGGCGCAAAACAGCGAATGTGAAACACTAGCTCGACTTTCT...           1819.0   \n",
       "2  CGGGAAACAAGCAAATGTACGACAATATGAACTAGCTCGATTAATC...           2790.0   \n",
       "3  ATATTGAATACGTAGACGACATAGATGCTCACTAGCTCATAGTTTA...           5508.0   \n",
       "4  ATGGCATGAAATGGGCGACCAGAGACACTCACTAGCTCGCACCTTA...           3932.0   \n",
       "\n",
       "   Raw_Counts_Rep2  \n",
       "0          12964.0  \n",
       "1           1802.0  \n",
       "2           2740.0  \n",
       "3           5925.0  \n",
       "4           3755.0  "
      ]
     },
     "execution_count": 4,
     "metadata": {},
     "output_type": "execute_result"
    }
   ],
   "source": [
    "# Combine both of the datasets on the union of their \"Raw_Sequence\"s \n",
    "df = pd.merge(df1,df2,on='Raw_Sequence',how='outer').fillna(0)\n",
    "df.columns = ['Raw_Sequence','Raw_Counts_Rep1','Raw_Counts_Rep2']\n",
    "\n",
    "df.head() # preview the dataframe"
   ]
  },
  {
   "cell_type": "code",
   "execution_count": 5,
   "id": "satellite-prison",
   "metadata": {},
   "outputs": [
    {
     "data": {
      "text/html": [
       "<div>\n",
       "<style scoped>\n",
       "    .dataframe tbody tr th:only-of-type {\n",
       "        vertical-align: middle;\n",
       "    }\n",
       "\n",
       "    .dataframe tbody tr th {\n",
       "        vertical-align: top;\n",
       "    }\n",
       "\n",
       "    .dataframe thead th {\n",
       "        text-align: right;\n",
       "    }\n",
       "</style>\n",
       "<table border=\"1\" class=\"dataframe\">\n",
       "  <thead>\n",
       "    <tr style=\"text-align: right;\">\n",
       "      <th></th>\n",
       "      <th>Raw_Counts_Rep1</th>\n",
       "      <th>Raw_Counts_Rep2</th>\n",
       "    </tr>\n",
       "  </thead>\n",
       "  <tbody>\n",
       "    <tr>\n",
       "      <th>Raw_Counts_Rep1</th>\n",
       "      <td>1.000000</td>\n",
       "      <td>0.999451</td>\n",
       "    </tr>\n",
       "    <tr>\n",
       "      <th>Raw_Counts_Rep2</th>\n",
       "      <td>0.999451</td>\n",
       "      <td>1.000000</td>\n",
       "    </tr>\n",
       "  </tbody>\n",
       "</table>\n",
       "</div>"
      ],
      "text/plain": [
       "                 Raw_Counts_Rep1  Raw_Counts_Rep2\n",
       "Raw_Counts_Rep1         1.000000         0.999451\n",
       "Raw_Counts_Rep2         0.999451         1.000000"
      ]
     },
     "execution_count": 5,
     "metadata": {},
     "output_type": "execute_result"
    }
   ],
   "source": [
    "# Determine the Pearson Correlation between the two datasets\n",
    "df.corr() "
   ]
  },
  {
   "cell_type": "markdown",
   "id": "royal-acoustic",
   "metadata": {},
   "source": [
    "Since the Pearson correlation between Replicate 1 and Replicate 2 for our dictionary sequencing is quite high (r = 0.999451), we will continue with combining the counts."
   ]
  },
  {
   "cell_type": "code",
   "execution_count": 6,
   "id": "graduate-potter",
   "metadata": {},
   "outputs": [
    {
     "data": {
      "text/html": [
       "<div>\n",
       "<style scoped>\n",
       "    .dataframe tbody tr th:only-of-type {\n",
       "        vertical-align: middle;\n",
       "    }\n",
       "\n",
       "    .dataframe tbody tr th {\n",
       "        vertical-align: top;\n",
       "    }\n",
       "\n",
       "    .dataframe thead th {\n",
       "        text-align: right;\n",
       "    }\n",
       "</style>\n",
       "<table border=\"1\" class=\"dataframe\">\n",
       "  <thead>\n",
       "    <tr style=\"text-align: right;\">\n",
       "      <th></th>\n",
       "      <th>Raw_Sequence</th>\n",
       "      <th>Raw_Counts_Rep1</th>\n",
       "      <th>Raw_Counts_Rep2</th>\n",
       "      <th>Raw_Counts</th>\n",
       "    </tr>\n",
       "  </thead>\n",
       "  <tbody>\n",
       "    <tr>\n",
       "      <th>0</th>\n",
       "      <td>CAACGGGACCACAGCCGGCTAAAGCTTCGTACTAGCTCAATTGGGT...</td>\n",
       "      <td>12498.0</td>\n",
       "      <td>12964.0</td>\n",
       "      <td>25462.0</td>\n",
       "    </tr>\n",
       "    <tr>\n",
       "      <th>1</th>\n",
       "      <td>AAGCCAGGCGCAAAACAGCGAATGTGAAACACTAGCTCGACTTTCT...</td>\n",
       "      <td>1819.0</td>\n",
       "      <td>1802.0</td>\n",
       "      <td>3621.0</td>\n",
       "    </tr>\n",
       "    <tr>\n",
       "      <th>2</th>\n",
       "      <td>CGGGAAACAAGCAAATGTACGACAATATGAACTAGCTCGATTAATC...</td>\n",
       "      <td>2790.0</td>\n",
       "      <td>2740.0</td>\n",
       "      <td>5530.0</td>\n",
       "    </tr>\n",
       "    <tr>\n",
       "      <th>3</th>\n",
       "      <td>ATATTGAATACGTAGACGACATAGATGCTCACTAGCTCATAGTTTA...</td>\n",
       "      <td>5508.0</td>\n",
       "      <td>5925.0</td>\n",
       "      <td>11433.0</td>\n",
       "    </tr>\n",
       "    <tr>\n",
       "      <th>4</th>\n",
       "      <td>ATGGCATGAAATGGGCGACCAGAGACACTCACTAGCTCGCACCTTA...</td>\n",
       "      <td>3932.0</td>\n",
       "      <td>3755.0</td>\n",
       "      <td>7687.0</td>\n",
       "    </tr>\n",
       "  </tbody>\n",
       "</table>\n",
       "</div>"
      ],
      "text/plain": [
       "                                        Raw_Sequence  Raw_Counts_Rep1  \\\n",
       "0  CAACGGGACCACAGCCGGCTAAAGCTTCGTACTAGCTCAATTGGGT...          12498.0   \n",
       "1  AAGCCAGGCGCAAAACAGCGAATGTGAAACACTAGCTCGACTTTCT...           1819.0   \n",
       "2  CGGGAAACAAGCAAATGTACGACAATATGAACTAGCTCGATTAATC...           2790.0   \n",
       "3  ATATTGAATACGTAGACGACATAGATGCTCACTAGCTCATAGTTTA...           5508.0   \n",
       "4  ATGGCATGAAATGGGCGACCAGAGACACTCACTAGCTCGCACCTTA...           3932.0   \n",
       "\n",
       "   Raw_Counts_Rep2  Raw_Counts  \n",
       "0          12964.0     25462.0  \n",
       "1           1802.0      3621.0  \n",
       "2           2740.0      5530.0  \n",
       "3           5925.0     11433.0  \n",
       "4           3755.0      7687.0  "
      ]
     },
     "execution_count": 6,
     "metadata": {},
     "output_type": "execute_result"
    }
   ],
   "source": [
    "# Add together the raw counts between Replicate 1 and Replicate 2\n",
    "df['Raw_Counts'] = df['Raw_Counts_Rep1'] + df['Raw_Counts_Rep2']\n",
    "\n",
    "df.head() # preview the dataframe"
   ]
  },
  {
   "cell_type": "code",
   "execution_count": 7,
   "id": "medical-treaty",
   "metadata": {},
   "outputs": [],
   "source": [
    "# Output the raw, combined results\n",
    "df[['Raw_Sequence','Raw_Counts']].to_csv('outputs/01_20210808_MR_SN-720bc_Preliminary-Filtering-Sequencing-Data_combined-output.tsv',\n",
    "                                         sep='\\t',index=False,header=False)"
   ]
  },
  {
   "cell_type": "markdown",
   "id": "tired-civilian",
   "metadata": {},
   "source": [
    "---"
   ]
  },
  {
   "cell_type": "markdown",
   "id": "acute-climate",
   "metadata": {},
   "source": [
    "## Filter Out Reads with N's Present and Reads Missing a Linker Sequence"
   ]
  },
  {
   "cell_type": "code",
   "execution_count": 8,
   "id": "sunrise-questionnaire",
   "metadata": {},
   "outputs": [
    {
     "name": "stdout",
     "output_type": "stream",
     "text": [
      "Before Filtering: There are 145945 unique sequences in the dictionary (6073006.0 reads)\n"
     ]
    }
   ],
   "source": [
    "print(f\"Before Filtering: There are {df.shape[0]} unique sequences in the dictionary ({df['Raw_Counts'].sum()} reads)\")"
   ]
  },
  {
   "cell_type": "markdown",
   "id": "honey-indonesia",
   "metadata": {},
   "source": [
    "### Identify and Filter Out Sequences with N's Present"
   ]
  },
  {
   "cell_type": "code",
   "execution_count": 9,
   "id": "dress-orleans",
   "metadata": {},
   "outputs": [
    {
     "name": "stdout",
     "output_type": "stream",
     "text": [
      "There are 9686 sequences with an N present, 136259 sequences with no N present\n",
      "\n",
      "Before Filtering: There are 145945 unique sequences in the dictionary (6073006.0 reads)\n",
      "-1- Removing N's: There are 136259 unique sequences in the dictionary (5982124.0 reads)\n"
     ]
    }
   ],
   "source": [
    "df['hasN'] = df.apply(lambda r: True if 'N' in r['Raw_Sequence'] else False, axis=1)\n",
    "print(f\"There are {df['hasN'].sum()} sequences with an N present, {df.shape[0] - df['hasN'].sum()} sequences with no N present\\n\")\n",
    "\n",
    "df_filtN = df.loc[df['hasN'] == False]\n",
    "print(f\"Before Filtering: There are {df.shape[0]} unique sequences in the dictionary ({df['Raw_Counts'].sum()} reads)\")\n",
    "print(f\"-1- Removing N's: There are {df_filtN.shape[0]} unique sequences in the dictionary ({df_filtN['Raw_Counts'].sum()} reads)\")"
   ]
  },
  {
   "cell_type": "markdown",
   "id": "limiting-robinson",
   "metadata": {},
   "source": [
    "### Identify and Filter Out Sequences Missing a Linker "
   ]
  },
  {
   "cell_type": "code",
   "execution_count": 10,
   "id": "mineral-watch",
   "metadata": {},
   "outputs": [],
   "source": [
    "# First, define the linker information for sequences that run \n",
    "# in the proper forward direction (R1 to R2)\n",
    "\n",
    "linker_sequence = \"ACTAGCTC\"\n",
    "linker_location = 31 # defines precise location in the design\n",
    "linker_window = 10 # defines the window to which to look for the linker"
   ]
  },
  {
   "cell_type": "code",
   "execution_count": 11,
   "id": "sound-illinois",
   "metadata": {},
   "outputs": [],
   "source": [
    "def hamming_distance(seq1,seq2):\n",
    "    \"\"\"Helper Method:\n",
    "    Determines the Hamming Distance (# mismatches) between two sequences\n",
    "    \"\"\"\n",
    "    return(sum([1 for i,j in zip(seq1,seq2) if i != j]))\n",
    "\n",
    "def find_linker(sequence,hamming_threshold=2):\n",
    "    \"\"\"Given a sequence, split the sequence according to the\n",
    "    linker sequence that is present (with mismatches allowed according\n",
    "    to the hamming threshold)\n",
    "    \"\"\"\n",
    "    # Attempt looking for an exact match of the linker, \n",
    "    # then splitting the sequence according to this exact match\n",
    "    exact_split = sequence.split(linker_sequence)\n",
    "    if len(exact_split) == 2:\n",
    "        return(exact_split)\n",
    "    \n",
    "    # If we can't find an exact match, search for the linker sequence\n",
    "    # and split with hamming distance of less than some threshold\n",
    "    potential_linker_sequences = [\n",
    "        sequence[i:i+len(linker_sequence)] for i in range(\n",
    "            linker_location-linker_window,linker_location+linker_window)]\n",
    "    \n",
    "    for subseq in potential_linker_sequences:\n",
    "        if hamming_distance(subseq,linker_sequence) <= hamming_threshold:\n",
    "            approximate_split = sequence.split(subseq)\n",
    "            return(approximate_split)\n",
    "    \n",
    "    # If we can't find the linker sequence, return the original sequence\n",
    "    return([sequence])"
   ]
  },
  {
   "cell_type": "code",
   "execution_count": 12,
   "id": "flexible-press",
   "metadata": {},
   "outputs": [],
   "source": [
    "# Split the sequence according to whether or not the exact linker sequence is present around the 31st base\n",
    "df_filtN['Split_Sequence'] = df_filtN.apply(lambda r: find_linker(r['Raw_Sequence']), axis=1)\n",
    "\n",
    "# From the linker sequence, determine the length of the barcode and number of splits we've had\n",
    "df_filtN['Barcode_Length'] = df_filtN.apply(lambda r: len(r['Split_Sequence'][0]), axis=1) # assume barcode before first split\n",
    "df_filtN['Number_Of_Splits'] = df_filtN.apply(lambda r: len(r['Split_Sequence']), axis=1)"
   ]
  },
  {
   "cell_type": "markdown",
   "id": "purple-decimal",
   "metadata": {},
   "source": [
    "### Plot the Distribution of Barcode Lengths and Number of Linkers Present in a Sequence Before Filtering"
   ]
  },
  {
   "cell_type": "code",
   "execution_count": 13,
   "id": "coupled-plate",
   "metadata": {},
   "outputs": [
    {
     "data": {
      "image/png": "[encoded data removed]",
      "text/plain": [
       "<Figure size 1080x432 with 2 Axes>"
      ]
     },
     "metadata": {
      "needs_background": "light"
     },
     "output_type": "display_data"
    }
   ],
   "source": [
    "plt.figure(figsize=(15,6));\n",
    "\n",
    "ax1 = plt.subplot(121);\n",
    "plt.hist(df_filtN['Barcode_Length'],bins=20);\n",
    "plt.xlabel('Barcode Length');\n",
    "plt.ylabel('Counts');\n",
    "plt.title('Barcode Lengths Before Filtering');\n",
    "\n",
    "plt.subplot(122,sharey=ax1);\n",
    "plt.hist(df_filtN['Number_Of_Splits']-1,bins=20);\n",
    "plt.xlabel('Number of Linker Sequences Present');\n",
    "# plt.ylabel('Counts');\n",
    "plt.title('Number of Linker Sequences Detected Before Filtering');"
   ]
  },
  {
   "cell_type": "markdown",
   "id": "solved-performer",
   "metadata": {},
   "source": [
    "### Filter Out Reads Missing a Linker and Reads with an Improper Barcode Length\n",
    "\n",
    "We are expecting our barcodes to be 29-30 bp in length."
   ]
  },
  {
   "cell_type": "code",
   "execution_count": 14,
   "id": "suitable-rebound",
   "metadata": {},
   "outputs": [
    {
     "name": "stdout",
     "output_type": "stream",
     "text": [
      "Before Filtering: There are 145945 unique sequences in the dictionary (6073006.0 reads)\n",
      "-1- Removing N's: There are 136259 unique sequences in the dictionary (5982124.0 reads)\n",
      "-2- Has 1 Linker: There are 128993 unique sequences in the dictionary (5965228.0 reads)\n",
      "-3- Has 29-30 BC: There are 121346 unique sequences in the dictionary (5863907.0 reads)\n"
     ]
    }
   ],
   "source": [
    "df_filtN_filtL = df_filtN.loc[df_filtN['Number_Of_Splits'] == 2]\n",
    "df_filtN_filtL_filtB = df_filtN_filtL.loc[(df_filtN_filtL['Barcode_Length'] == 29) | (df_filtN_filtL['Barcode_Length'] == 30)]\n",
    "\n",
    "print(f\"Before Filtering: There are {df.shape[0]} unique sequences in the dictionary ({df['Raw_Counts'].sum()} reads)\")\n",
    "print(f\"-1- Removing N's: There are {df_filtN.shape[0]} unique sequences in the dictionary ({df_filtN['Raw_Counts'].sum()} reads)\")\n",
    "print(f\"-2- Has 1 Linker: There are {df_filtN_filtL.shape[0]} unique sequences in the dictionary ({df_filtN_filtL['Raw_Counts'].sum()} reads)\")\n",
    "print(f\"-3- Has 29-30 BC: There are {df_filtN_filtL_filtB.shape[0]} unique sequences in the dictionary ({df_filtN_filtL_filtB['Raw_Counts'].sum()} reads)\")"
   ]
  },
  {
   "cell_type": "code",
   "execution_count": 15,
   "id": "prescription-assembly",
   "metadata": {},
   "outputs": [],
   "source": [
    "df_filt = df_filtN_filtL_filtB # make the naming a lot easier "
   ]
  },
  {
   "cell_type": "markdown",
   "id": "accomplished-roulette",
   "metadata": {},
   "source": [
    "---"
   ]
  },
  {
   "cell_type": "markdown",
   "id": "unauthorized-missile",
   "metadata": {},
   "source": [
    "## Determine the Barcode and Enhancer Sequences in our Dictionary\n",
    "\n",
    "With the way that we've designed the dictionary, the barcode is the first sequence within our read. Afterwards, the enhancer is the reverse complement of the second portion of the sequence after the linker."
   ]
  },
  {
   "cell_type": "code",
   "execution_count": 16,
   "id": "acting-horror",
   "metadata": {},
   "outputs": [],
   "source": [
    "df_filt['Barcode'] = df_filt.apply(lambda r: r['Split_Sequence'][0], axis=1)\n",
    "df_filt['Enhancer-Read'] = df_filt.apply(lambda r: r['Split_Sequence'][1], axis=1)"
   ]
  },
  {
   "cell_type": "markdown",
   "id": "level-skill",
   "metadata": {},
   "source": [
    "### Convert the Enhancer Sequence in the Read to its Reverse Complement Sequence"
   ]
  },
  {
   "cell_type": "code",
   "execution_count": 17,
   "id": "bronze-lindsay",
   "metadata": {},
   "outputs": [],
   "source": [
    "def reverse_complement(sequence):\n",
    "    base_pairs = {'A':'T','T':'A','C':'G','G':'C','N':'N'}\n",
    "    return(''.join([base_pairs[i] for i in sequence])[::-1])"
   ]
  },
  {
   "cell_type": "code",
   "execution_count": 18,
   "id": "better-invitation",
   "metadata": {},
   "outputs": [
    {
     "data": {
      "text/html": [
       "<div>\n",
       "<style scoped>\n",
       "    .dataframe tbody tr th:only-of-type {\n",
       "        vertical-align: middle;\n",
       "    }\n",
       "\n",
       "    .dataframe tbody tr th {\n",
       "        vertical-align: top;\n",
       "    }\n",
       "\n",
       "    .dataframe thead th {\n",
       "        text-align: right;\n",
       "    }\n",
       "</style>\n",
       "<table border=\"1\" class=\"dataframe\">\n",
       "  <thead>\n",
       "    <tr style=\"text-align: right;\">\n",
       "      <th></th>\n",
       "      <th>Raw_Sequence</th>\n",
       "      <th>Raw_Counts_Rep1</th>\n",
       "      <th>Raw_Counts_Rep2</th>\n",
       "      <th>Raw_Counts</th>\n",
       "      <th>hasN</th>\n",
       "      <th>Split_Sequence</th>\n",
       "      <th>Barcode_Length</th>\n",
       "      <th>Number_Of_Splits</th>\n",
       "      <th>Barcode</th>\n",
       "      <th>Enhancer-Read</th>\n",
       "      <th>Enhancer</th>\n",
       "    </tr>\n",
       "  </thead>\n",
       "  <tbody>\n",
       "    <tr>\n",
       "      <th>0</th>\n",
       "      <td>CAACGGGACCACAGCCGGCTAAAGCTTCGTACTAGCTCAATTGGGT...</td>\n",
       "      <td>12498.0</td>\n",
       "      <td>12964.0</td>\n",
       "      <td>25462.0</td>\n",
       "      <td>False</td>\n",
       "      <td>[CAACGGGACCACAGCCGGCTAAAGCTTCGT, AATTGGGTTCAAA...</td>\n",
       "      <td>30</td>\n",
       "      <td>2</td>\n",
       "      <td>CAACGGGACCACAGCCGGCTAAAGCTTCGT</td>\n",
       "      <td>AATTGGGTTCAAACAGTATCCCATTTTACCCCGCAGTACTATATTC...</td>\n",
       "      <td>CAGTTGCAAAGTAAGACATAGGAATATAGTACTGCGGGGTAAAATG...</td>\n",
       "    </tr>\n",
       "    <tr>\n",
       "      <th>1</th>\n",
       "      <td>AAGCCAGGCGCAAAACAGCGAATGTGAAACACTAGCTCGACTTTCT...</td>\n",
       "      <td>1819.0</td>\n",
       "      <td>1802.0</td>\n",
       "      <td>3621.0</td>\n",
       "      <td>False</td>\n",
       "      <td>[AAGCCAGGCGCAAAACAGCGAATGTGAAAC, GACTTTCTCCCAA...</td>\n",
       "      <td>30</td>\n",
       "      <td>2</td>\n",
       "      <td>AAGCCAGGCGCAAAACAGCGAATGTGAAAC</td>\n",
       "      <td>GACTTTCTCCCAAGCACGCGGCTATCCAGGCCGCAGTGTGTGATCC...</td>\n",
       "      <td>GGAGTTCAGACGAGGAGAAACCAGCCTTCCGAAAGCACGCAGCGTG...</td>\n",
       "    </tr>\n",
       "    <tr>\n",
       "      <th>2</th>\n",
       "      <td>CGGGAAACAAGCAAATGTACGACAATATGAACTAGCTCGATTAATC...</td>\n",
       "      <td>2790.0</td>\n",
       "      <td>2740.0</td>\n",
       "      <td>5530.0</td>\n",
       "      <td>False</td>\n",
       "      <td>[CGGGAAACAAGCAAATGTACGACAATATGA, GATTAATCTGGGG...</td>\n",
       "      <td>30</td>\n",
       "      <td>2</td>\n",
       "      <td>CGGGAAACAAGCAAATGTACGACAATATGA</td>\n",
       "      <td>GATTAATCTGGGGAATAATGGAATATAATACTGCGGGGTAAAATGG...</td>\n",
       "      <td>CATTATTTGCTAACGGTATCCCATTTTACCCCGCAGTATTATATTC...</td>\n",
       "    </tr>\n",
       "    <tr>\n",
       "      <th>3</th>\n",
       "      <td>ATATTGAATACGTAGACGACATAGATGCTCACTAGCTCATAGTTTA...</td>\n",
       "      <td>5508.0</td>\n",
       "      <td>5925.0</td>\n",
       "      <td>11433.0</td>\n",
       "      <td>False</td>\n",
       "      <td>[ATATTGAATACGTAGACGACATAGATGCTC, ATAGTTTATGTCG...</td>\n",
       "      <td>30</td>\n",
       "      <td>2</td>\n",
       "      <td>ATATTGAATACGTAGACGACATAGATGCTC</td>\n",
       "      <td>ATAGTTTATGTCGTGAATAGGGATCCATGCCCGCAGTTGGCTCATC...</td>\n",
       "      <td>CTTTTGCAGATATTAATACTGGATGAGCCAACTGCGGGCATGGATC...</td>\n",
       "    </tr>\n",
       "    <tr>\n",
       "      <th>4</th>\n",
       "      <td>ATGGCATGAAATGGGCGACCAGAGACACTCACTAGCTCGCACCTTA...</td>\n",
       "      <td>3932.0</td>\n",
       "      <td>3755.0</td>\n",
       "      <td>7687.0</td>\n",
       "      <td>False</td>\n",
       "      <td>[ATGGCATGAAATGGGCGACCAGAGACACTC, GCACCTTATCAAT...</td>\n",
       "      <td>30</td>\n",
       "      <td>2</td>\n",
       "      <td>ATGGCATGAAATGGGCGACCAGAGACACTC</td>\n",
       "      <td>GCACCTTATCAATGGATGCTACCAATGTATCACAGCGGTGAACTCT...</td>\n",
       "      <td>GTTCAGGATTGTCACTACAGCTAGAGTTCACCGCTGTGATACATTG...</td>\n",
       "    </tr>\n",
       "  </tbody>\n",
       "</table>\n",
       "</div>"
      ],
      "text/plain": [
       "                                        Raw_Sequence  Raw_Counts_Rep1  \\\n",
       "0  CAACGGGACCACAGCCGGCTAAAGCTTCGTACTAGCTCAATTGGGT...          12498.0   \n",
       "1  AAGCCAGGCGCAAAACAGCGAATGTGAAACACTAGCTCGACTTTCT...           1819.0   \n",
       "2  CGGGAAACAAGCAAATGTACGACAATATGAACTAGCTCGATTAATC...           2790.0   \n",
       "3  ATATTGAATACGTAGACGACATAGATGCTCACTAGCTCATAGTTTA...           5508.0   \n",
       "4  ATGGCATGAAATGGGCGACCAGAGACACTCACTAGCTCGCACCTTA...           3932.0   \n",
       "\n",
       "   Raw_Counts_Rep2  Raw_Counts   hasN  \\\n",
       "0          12964.0     25462.0  False   \n",
       "1           1802.0      3621.0  False   \n",
       "2           2740.0      5530.0  False   \n",
       "3           5925.0     11433.0  False   \n",
       "4           3755.0      7687.0  False   \n",
       "\n",
       "                                      Split_Sequence  Barcode_Length  \\\n",
       "0  [CAACGGGACCACAGCCGGCTAAAGCTTCGT, AATTGGGTTCAAA...              30   \n",
       "1  [AAGCCAGGCGCAAAACAGCGAATGTGAAAC, GACTTTCTCCCAA...              30   \n",
       "2  [CGGGAAACAAGCAAATGTACGACAATATGA, GATTAATCTGGGG...              30   \n",
       "3  [ATATTGAATACGTAGACGACATAGATGCTC, ATAGTTTATGTCG...              30   \n",
       "4  [ATGGCATGAAATGGGCGACCAGAGACACTC, GCACCTTATCAAT...              30   \n",
       "\n",
       "   Number_Of_Splits                         Barcode  \\\n",
       "0                 2  CAACGGGACCACAGCCGGCTAAAGCTTCGT   \n",
       "1                 2  AAGCCAGGCGCAAAACAGCGAATGTGAAAC   \n",
       "2                 2  CGGGAAACAAGCAAATGTACGACAATATGA   \n",
       "3                 2  ATATTGAATACGTAGACGACATAGATGCTC   \n",
       "4                 2  ATGGCATGAAATGGGCGACCAGAGACACTC   \n",
       "\n",
       "                                       Enhancer-Read  \\\n",
       "0  AATTGGGTTCAAACAGTATCCCATTTTACCCCGCAGTACTATATTC...   \n",
       "1  GACTTTCTCCCAAGCACGCGGCTATCCAGGCCGCAGTGTGTGATCC...   \n",
       "2  GATTAATCTGGGGAATAATGGAATATAATACTGCGGGGTAAAATGG...   \n",
       "3  ATAGTTTATGTCGTGAATAGGGATCCATGCCCGCAGTTGGCTCATC...   \n",
       "4  GCACCTTATCAATGGATGCTACCAATGTATCACAGCGGTGAACTCT...   \n",
       "\n",
       "                                            Enhancer  \n",
       "0  CAGTTGCAAAGTAAGACATAGGAATATAGTACTGCGGGGTAAAATG...  \n",
       "1  GGAGTTCAGACGAGGAGAAACCAGCCTTCCGAAAGCACGCAGCGTG...  \n",
       "2  CATTATTTGCTAACGGTATCCCATTTTACCCCGCAGTATTATATTC...  \n",
       "3  CTTTTGCAGATATTAATACTGGATGAGCCAACTGCGGGCATGGATC...  \n",
       "4  GTTCAGGATTGTCACTACAGCTAGAGTTCACCGCTGTGATACATTG...  "
      ]
     },
     "execution_count": 18,
     "metadata": {},
     "output_type": "execute_result"
    }
   ],
   "source": [
    "df_filt['Enhancer'] = df_filt.apply(lambda r: reverse_complement(r['Enhancer-Read']), axis=1)\n",
    "\n",
    "df_filt.head() # preview the dataframe"
   ]
  },
  {
   "cell_type": "markdown",
   "id": "stopped-stone",
   "metadata": {},
   "source": [
    "---"
   ]
  },
  {
   "cell_type": "markdown",
   "id": "twenty-lighting",
   "metadata": {},
   "source": [
    "## Filter Out Sequences with Low Read Counts"
   ]
  },
  {
   "cell_type": "markdown",
   "id": "known-visibility",
   "metadata": {},
   "source": [
    "### Plot the Distribution of Read Counts in our Present Dataframe"
   ]
  },
  {
   "cell_type": "code",
   "execution_count": 19,
   "id": "steady-chain",
   "metadata": {},
   "outputs": [
    {
     "data": {
      "image/png": "[encoded data removed]",
      "text/plain": [
       "<Figure size 1080x432 with 2 Axes>"
      ]
     },
     "metadata": {
      "needs_background": "light"
     },
     "output_type": "display_data"
    }
   ],
   "source": [
    "plt.figure(figsize=(15,6));\n",
    "\n",
    "plt.subplot(121);\n",
    "plt.hist(df_filtN['Raw_Counts'],bins=50);\n",
    "plt.xlabel('Raw Read Count');\n",
    "plt.ylabel('Counts');\n",
    "plt.title('Distribution of Read Counts');\n",
    "\n",
    "plt.subplot(122);\n",
    "plt.hist(df_filtN['Raw_Counts'],bins=50);\n",
    "plt.xlabel('Raw Read Count');\n",
    "plt.ylabel('Counts');\n",
    "plt.yscale('log')\n",
    "plt.title('Distribution of Read Counts, log-Scaled');"
   ]
  },
  {
   "cell_type": "markdown",
   "id": "czech-synthetic",
   "metadata": {},
   "source": [
    "### Filter Out Sequences with Low Read Counts"
   ]
  },
  {
   "cell_type": "code",
   "execution_count": 20,
   "id": "decimal-prescription",
   "metadata": {},
   "outputs": [
    {
     "name": "stdout",
     "output_type": "stream",
     "text": [
      "Before Filtering: There are 145945 unique sequences in the dictionary (6073006.0 reads)\n",
      "-1- Removing N's: There are 136259 unique sequences in the dictionary (5982124.0 reads)\n",
      "-2- Has 1 Linker: There are 128993 unique sequences in the dictionary (5965228.0 reads)\n",
      "-3- Has 29-30 BC: There are 121346 unique sequences in the dictionary (5863907.0 reads)\n",
      "-4- Has >=150 RC: There are 699 unique sequences in the dictionary    (5410613.0 reads)\n"
     ]
    }
   ],
   "source": [
    "df_filt_filtRC = df_filt.loc[df_filt['Raw_Counts'] >= 150]\n",
    "\n",
    "print(f\"Before Filtering: There are {df.shape[0]} unique sequences in the dictionary ({df['Raw_Counts'].sum()} reads)\")\n",
    "print(f\"-1- Removing N's: There are {df_filtN.shape[0]} unique sequences in the dictionary ({df_filtN['Raw_Counts'].sum()} reads)\")\n",
    "print(f\"-2- Has 1 Linker: There are {df_filtN_filtL.shape[0]} unique sequences in the dictionary ({df_filtN_filtL['Raw_Counts'].sum()} reads)\")\n",
    "print(f\"-3- Has 29-30 BC: There are {df_filtN_filtL_filtB.shape[0]} unique sequences in the dictionary ({df_filtN_filtL_filtB['Raw_Counts'].sum()} reads)\")\n",
    "print(f\"-4- Has >=150 RC: There are {df_filt_filtRC.shape[0]} unique sequences in the dictionary    ({df_filt_filtRC['Raw_Counts'].sum()} reads)\")"
   ]
  },
  {
   "cell_type": "markdown",
   "id": "upper-conservative",
   "metadata": {},
   "source": [
    "This final number of 699 sequences after preliminary filtering is fine because we are expecting our dictionary only have 130 things total. Within the next notebook, we can compare directly to the 130 sequences that we inputted to see if they appear within the dictionary."
   ]
  },
  {
   "cell_type": "markdown",
   "id": "altered-consultation",
   "metadata": {},
   "source": [
    "### Plot the Distribution of Read Counts in our Dataframe After Filtering"
   ]
  },
  {
   "cell_type": "code",
   "execution_count": 21,
   "id": "fitting-finance",
   "metadata": {},
   "outputs": [
    {
     "data": {
      "image/png": "[encoded data removed]",
      "text/plain": [
       "<Figure size 720x432 with 1 Axes>"
      ]
     },
     "metadata": {
      "needs_background": "light"
     },
     "output_type": "display_data"
    }
   ],
   "source": [
    "plt.figure(figsize=(10,6));\n",
    "\n",
    "plt.hist(df_filt_filtRC['Raw_Counts'],bins=50);\n",
    "plt.xlabel('Raw Read Count');\n",
    "plt.ylabel('Counts');\n",
    "plt.title('Distribution of Read Counts (Sequence >= 150 Raw Reads)');"
   ]
  },
  {
   "cell_type": "markdown",
   "id": "happy-frederick",
   "metadata": {},
   "source": [
    "---"
   ]
  },
  {
   "cell_type": "markdown",
   "id": "interesting-isolation",
   "metadata": {},
   "source": [
    "## Evaluate the Enhancer Sequences for Proper Length to Include in the Library"
   ]
  },
  {
   "cell_type": "code",
   "execution_count": 22,
   "id": "secondary-person",
   "metadata": {},
   "outputs": [
    {
     "data": {
      "image/png": "[encoded data removed]",
      "text/plain": [
       "<Figure size 720x432 with 1 Axes>"
      ]
     },
     "metadata": {
      "needs_background": "light"
     },
     "output_type": "display_data"
    }
   ],
   "source": [
    "# Calculate the length of each enhancer within our sequencing data\n",
    "df_filt_filtRC['Enhancer_Length'] = df_filt_filtRC.apply(lambda r: len(r['Enhancer']), axis=1)\n",
    "\n",
    "# Show the distribution of lengths for each enhancer\n",
    "plt.figure(figsize=(10,6));\n",
    "plt.hist(df_filt_filtRC['Raw_Counts'],bins=50);\n",
    "plt.xlabel('Enhancer Length (bp)');\n",
    "plt.ylabel('Counts');\n",
    "plt.title('Distribution of Enhancer Lengths in the Sequenced Dictionary');"
   ]
  },
  {
   "cell_type": "markdown",
   "id": "stupid-johnston",
   "metadata": {},
   "source": [
    "---"
   ]
  },
  {
   "cell_type": "markdown",
   "id": "rubber-combat",
   "metadata": {},
   "source": [
    "## Export the Filtered Library"
   ]
  },
  {
   "cell_type": "code",
   "execution_count": 23,
   "id": "established-california",
   "metadata": {},
   "outputs": [
    {
     "name": "stdout",
     "output_type": "stream",
     "text": [
      "Done!\n"
     ]
    }
   ],
   "source": [
    "# Output the raw, combined results\n",
    "df_filt_filtRC.to_csv('outputs/01_MR_SN-720bc_Preliminary-Filtering-Sequencing-Data_filtered-output.tsv',sep='\\t',index=False)\n",
    "pickle.dump(df_filt_filtRC,open('outputs/01_MR_SN-720bc_Preliminary-Filtering-Sequencing-Data_filtered-output.pickle','wb'))\n",
    "print(\"Done!\")"
   ]
  }
 ],
 "metadata": {
  "kernelspec": {
   "display_name": "Python 3 (ipykernel)",
   "language": "python",
   "name": "python3"
  },
  "language_info": {
   "codemirror_mode": {
    "name": "ipython",
    "version": 3
   },
   "file_extension": ".py",
   "mimetype": "text/x-python",
   "name": "python",
   "nbconvert_exporter": "python",
   "pygments_lexer": "ipython3",
   "version": "3.10.5"
  }
 },
 "nbformat": 4,
 "nbformat_minor": 5
}
