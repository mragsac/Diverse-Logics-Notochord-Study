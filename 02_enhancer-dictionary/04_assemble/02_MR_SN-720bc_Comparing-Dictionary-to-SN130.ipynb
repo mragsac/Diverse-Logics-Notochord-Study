{
 "cells": [
  {
   "cell_type": "markdown",
   "id": "incorporated-finder",
   "metadata": {},
   "source": [
    "# Comparing Dictionary Sequencing to Selected SN130 Enhancers\n",
    "\n",
    "**Author:** Michelle Franc Ragsac (mragsac@eng.ucsd.edu) \n",
    "\n",
    "### Import Necessary Packages"
   ]
  },
  {
   "cell_type": "code",
   "execution_count": 1,
   "id": "veterinary-whale",
   "metadata": {},
   "outputs": [],
   "source": [
    "import pandas as pd\n",
    "import pickle\n",
    "\n",
    "import matplotlib.pyplot as plt\n",
    "%matplotlib inline\n",
    "\n",
    "pd.set_option('mode.chained_assignment', None) # disable the setting with copy parning"
   ]
  },
  {
   "cell_type": "markdown",
   "id": "informal-prince",
   "metadata": {},
   "source": [
    "---"
   ]
  },
  {
   "cell_type": "markdown",
   "id": "liable-partnership",
   "metadata": {},
   "source": [
    "## Import the Filtered Dictionary from the Previous Notebook"
   ]
  },
  {
   "cell_type": "code",
   "execution_count": 2,
   "id": "dynamic-glory",
   "metadata": {},
   "outputs": [
    {
     "data": {
      "text/html": [
       "<div>\n",
       "<style scoped>\n",
       "    .dataframe tbody tr th:only-of-type {\n",
       "        vertical-align: middle;\n",
       "    }\n",
       "\n",
       "    .dataframe tbody tr th {\n",
       "        vertical-align: top;\n",
       "    }\n",
       "\n",
       "    .dataframe thead th {\n",
       "        text-align: right;\n",
       "    }\n",
       "</style>\n",
       "<table border=\"1\" class=\"dataframe\">\n",
       "  <thead>\n",
       "    <tr style=\"text-align: right;\">\n",
       "      <th></th>\n",
       "      <th>Raw_Sequence</th>\n",
       "      <th>Raw_Counts_Rep1</th>\n",
       "      <th>Raw_Counts_Rep2</th>\n",
       "      <th>Raw_Counts</th>\n",
       "      <th>hasN</th>\n",
       "      <th>Split_Sequence</th>\n",
       "      <th>Barcode_Length</th>\n",
       "      <th>Number_Of_Splits</th>\n",
       "      <th>Barcode</th>\n",
       "      <th>Enhancer-Read</th>\n",
       "      <th>Enhancer</th>\n",
       "      <th>Enhancer_Length</th>\n",
       "    </tr>\n",
       "  </thead>\n",
       "  <tbody>\n",
       "    <tr>\n",
       "      <th>0</th>\n",
       "      <td>CAACGGGACCACAGCCGGCTAAAGCTTCGTACTAGCTCAATTGGGT...</td>\n",
       "      <td>12498.0</td>\n",
       "      <td>12964.0</td>\n",
       "      <td>25462.0</td>\n",
       "      <td>False</td>\n",
       "      <td>[CAACGGGACCACAGCCGGCTAAAGCTTCGT, AATTGGGTTCAAA...</td>\n",
       "      <td>30</td>\n",
       "      <td>2</td>\n",
       "      <td>CAACGGGACCACAGCCGGCTAAAGCTTCGT</td>\n",
       "      <td>AATTGGGTTCAAACAGTATCCCATTTTACCCCGCAGTACTATATTC...</td>\n",
       "      <td>CAGTTGCAAAGTAAGACATAGGAATATAGTACTGCGGGGTAAAATG...</td>\n",
       "      <td>67</td>\n",
       "    </tr>\n",
       "    <tr>\n",
       "      <th>1</th>\n",
       "      <td>AAGCCAGGCGCAAAACAGCGAATGTGAAACACTAGCTCGACTTTCT...</td>\n",
       "      <td>1819.0</td>\n",
       "      <td>1802.0</td>\n",
       "      <td>3621.0</td>\n",
       "      <td>False</td>\n",
       "      <td>[AAGCCAGGCGCAAAACAGCGAATGTGAAAC, GACTTTCTCCCAA...</td>\n",
       "      <td>30</td>\n",
       "      <td>2</td>\n",
       "      <td>AAGCCAGGCGCAAAACAGCGAATGTGAAAC</td>\n",
       "      <td>GACTTTCTCCCAAGCACGCGGCTATCCAGGCCGCAGTGTGTGATCC...</td>\n",
       "      <td>GGAGTTCAGACGAGGAGAAACCAGCCTTCCGAAAGCACGCAGCGTG...</td>\n",
       "      <td>94</td>\n",
       "    </tr>\n",
       "    <tr>\n",
       "      <th>2</th>\n",
       "      <td>CGGGAAACAAGCAAATGTACGACAATATGAACTAGCTCGATTAATC...</td>\n",
       "      <td>2790.0</td>\n",
       "      <td>2740.0</td>\n",
       "      <td>5530.0</td>\n",
       "      <td>False</td>\n",
       "      <td>[CGGGAAACAAGCAAATGTACGACAATATGA, GATTAATCTGGGG...</td>\n",
       "      <td>30</td>\n",
       "      <td>2</td>\n",
       "      <td>CGGGAAACAAGCAAATGTACGACAATATGA</td>\n",
       "      <td>GATTAATCTGGGGAATAATGGAATATAATACTGCGGGGTAAAATGG...</td>\n",
       "      <td>CATTATTTGCTAACGGTATCCCATTTTACCCCGCAGTATTATATTC...</td>\n",
       "      <td>66</td>\n",
       "    </tr>\n",
       "    <tr>\n",
       "      <th>3</th>\n",
       "      <td>ATATTGAATACGTAGACGACATAGATGCTCACTAGCTCATAGTTTA...</td>\n",
       "      <td>5508.0</td>\n",
       "      <td>5925.0</td>\n",
       "      <td>11433.0</td>\n",
       "      <td>False</td>\n",
       "      <td>[ATATTGAATACGTAGACGACATAGATGCTC, ATAGTTTATGTCG...</td>\n",
       "      <td>30</td>\n",
       "      <td>2</td>\n",
       "      <td>ATATTGAATACGTAGACGACATAGATGCTC</td>\n",
       "      <td>ATAGTTTATGTCGTGAATAGGGATCCATGCCCGCAGTTGGCTCATC...</td>\n",
       "      <td>CTTTTGCAGATATTAATACTGGATGAGCCAACTGCGGGCATGGATC...</td>\n",
       "      <td>67</td>\n",
       "    </tr>\n",
       "    <tr>\n",
       "      <th>4</th>\n",
       "      <td>ATGGCATGAAATGGGCGACCAGAGACACTCACTAGCTCGCACCTTA...</td>\n",
       "      <td>3932.0</td>\n",
       "      <td>3755.0</td>\n",
       "      <td>7687.0</td>\n",
       "      <td>False</td>\n",
       "      <td>[ATGGCATGAAATGGGCGACCAGAGACACTC, GCACCTTATCAAT...</td>\n",
       "      <td>30</td>\n",
       "      <td>2</td>\n",
       "      <td>ATGGCATGAAATGGGCGACCAGAGACACTC</td>\n",
       "      <td>GCACCTTATCAATGGATGCTACCAATGTATCACAGCGGTGAACTCT...</td>\n",
       "      <td>GTTCAGGATTGTCACTACAGCTAGAGTTCACCGCTGTGATACATTG...</td>\n",
       "      <td>68</td>\n",
       "    </tr>\n",
       "  </tbody>\n",
       "</table>\n",
       "</div>"
      ],
      "text/plain": [
       "                                        Raw_Sequence  Raw_Counts_Rep1  \\\n",
       "0  CAACGGGACCACAGCCGGCTAAAGCTTCGTACTAGCTCAATTGGGT...          12498.0   \n",
       "1  AAGCCAGGCGCAAAACAGCGAATGTGAAACACTAGCTCGACTTTCT...           1819.0   \n",
       "2  CGGGAAACAAGCAAATGTACGACAATATGAACTAGCTCGATTAATC...           2790.0   \n",
       "3  ATATTGAATACGTAGACGACATAGATGCTCACTAGCTCATAGTTTA...           5508.0   \n",
       "4  ATGGCATGAAATGGGCGACCAGAGACACTCACTAGCTCGCACCTTA...           3932.0   \n",
       "\n",
       "   Raw_Counts_Rep2  Raw_Counts   hasN  \\\n",
       "0          12964.0     25462.0  False   \n",
       "1           1802.0      3621.0  False   \n",
       "2           2740.0      5530.0  False   \n",
       "3           5925.0     11433.0  False   \n",
       "4           3755.0      7687.0  False   \n",
       "\n",
       "                                      Split_Sequence  Barcode_Length  \\\n",
       "0  [CAACGGGACCACAGCCGGCTAAAGCTTCGT, AATTGGGTTCAAA...              30   \n",
       "1  [AAGCCAGGCGCAAAACAGCGAATGTGAAAC, GACTTTCTCCCAA...              30   \n",
       "2  [CGGGAAACAAGCAAATGTACGACAATATGA, GATTAATCTGGGG...              30   \n",
       "3  [ATATTGAATACGTAGACGACATAGATGCTC, ATAGTTTATGTCG...              30   \n",
       "4  [ATGGCATGAAATGGGCGACCAGAGACACTC, GCACCTTATCAAT...              30   \n",
       "\n",
       "   Number_Of_Splits                         Barcode  \\\n",
       "0                 2  CAACGGGACCACAGCCGGCTAAAGCTTCGT   \n",
       "1                 2  AAGCCAGGCGCAAAACAGCGAATGTGAAAC   \n",
       "2                 2  CGGGAAACAAGCAAATGTACGACAATATGA   \n",
       "3                 2  ATATTGAATACGTAGACGACATAGATGCTC   \n",
       "4                 2  ATGGCATGAAATGGGCGACCAGAGACACTC   \n",
       "\n",
       "                                       Enhancer-Read  \\\n",
       "0  AATTGGGTTCAAACAGTATCCCATTTTACCCCGCAGTACTATATTC...   \n",
       "1  GACTTTCTCCCAAGCACGCGGCTATCCAGGCCGCAGTGTGTGATCC...   \n",
       "2  GATTAATCTGGGGAATAATGGAATATAATACTGCGGGGTAAAATGG...   \n",
       "3  ATAGTTTATGTCGTGAATAGGGATCCATGCCCGCAGTTGGCTCATC...   \n",
       "4  GCACCTTATCAATGGATGCTACCAATGTATCACAGCGGTGAACTCT...   \n",
       "\n",
       "                                            Enhancer  Enhancer_Length  \n",
       "0  CAGTTGCAAAGTAAGACATAGGAATATAGTACTGCGGGGTAAAATG...               67  \n",
       "1  GGAGTTCAGACGAGGAGAAACCAGCCTTCCGAAAGCACGCAGCGTG...               94  \n",
       "2  CATTATTTGCTAACGGTATCCCATTTTACCCCGCAGTATTATATTC...               66  \n",
       "3  CTTTTGCAGATATTAATACTGGATGAGCCAACTGCGGGCATGGATC...               67  \n",
       "4  GTTCAGGATTGTCACTACAGCTAGAGTTCACCGCTGTGATACATTG...               68  "
      ]
     },
     "execution_count": 2,
     "metadata": {},
     "output_type": "execute_result"
    }
   ],
   "source": [
    "# Open the previous notebook's output and preview the contents\n",
    "df = pickle.load(open('outputs/01_MR_SN-720bc_Preliminary-Filtering-Sequencing-Data_filtered-output.pickle','rb'))\n",
    "df.head() "
   ]
  },
  {
   "cell_type": "markdown",
   "id": "endangered-theater",
   "metadata": {},
   "source": [
    "## Import the Expected SN Library Enhancers "
   ]
  },
  {
   "cell_type": "code",
   "execution_count": 3,
   "id": "fixed-field",
   "metadata": {},
   "outputs": [
    {
     "name": "stdout",
     "output_type": "stream",
     "text": [
      "There are a total of 130 enhancers in our SN library:\n"
     ]
    },
    {
     "data": {
      "text/html": [
       "<div>\n",
       "<style scoped>\n",
       "    .dataframe tbody tr th:only-of-type {\n",
       "        vertical-align: middle;\n",
       "    }\n",
       "\n",
       "    .dataframe tbody tr th {\n",
       "        vertical-align: top;\n",
       "    }\n",
       "\n",
       "    .dataframe thead th {\n",
       "        text-align: right;\n",
       "    }\n",
       "</style>\n",
       "<table border=\"1\" class=\"dataframe\">\n",
       "  <thead>\n",
       "    <tr style=\"text-align: right;\">\n",
       "      <th></th>\n",
       "      <th>Raw_Sequence</th>\n",
       "      <th>True_Sequence</th>\n",
       "    </tr>\n",
       "  </thead>\n",
       "  <tbody>\n",
       "    <tr>\n",
       "      <th>0</th>\n",
       "      <td>CTGGAGTTCAGACGAGGAGAAACCAGCCTTTACTTTAAAGTGTAAA...</td>\n",
       "      <td>TTACTTTAAAGTGTAAACACTGGATGCTTACACAGCTGTGCGGCGC...</td>\n",
       "    </tr>\n",
       "    <tr>\n",
       "      <th>1</th>\n",
       "      <td>CTGGAGTTCAGACGAGGAGAAACCAGCCTCCCCGGTATATTCACCG...</td>\n",
       "      <td>CCCCGGTATATTCACCGACAAATACGTAACGACTGCGGATCAAATT...</td>\n",
       "    </tr>\n",
       "    <tr>\n",
       "      <th>2</th>\n",
       "      <td>CTGGAGTTCAGACGAGGAGAAACCAGCCTTACAACCTATTTCCGGG...</td>\n",
       "      <td>TACAACCTATTTCCGGGATTCGAACCCAATACTGCGGATTACGTTT...</td>\n",
       "    </tr>\n",
       "    <tr>\n",
       "      <th>3</th>\n",
       "      <td>CTGGAGTTCAGACGAGGAGAAACCAGCCTTTTTACATTTATTTAAA...</td>\n",
       "      <td>TTTTACATTTATTTAAAATCCAAATTTTCCCACAGCTGAATGAAAT...</td>\n",
       "    </tr>\n",
       "    <tr>\n",
       "      <th>4</th>\n",
       "      <td>CTGGAGTTCAGACGAGGAGAAACCAGCCTTCACCCGGAAGCTTTTT...</td>\n",
       "      <td>TCACCCGGAAGCTTTTTTGGGACTGACGAAACTGCGGTCGATTCAG...</td>\n",
       "    </tr>\n",
       "  </tbody>\n",
       "</table>\n",
       "</div>"
      ],
      "text/plain": [
       "                                        Raw_Sequence  \\\n",
       "0  CTGGAGTTCAGACGAGGAGAAACCAGCCTTTACTTTAAAGTGTAAA...   \n",
       "1  CTGGAGTTCAGACGAGGAGAAACCAGCCTCCCCGGTATATTCACCG...   \n",
       "2  CTGGAGTTCAGACGAGGAGAAACCAGCCTTACAACCTATTTCCGGG...   \n",
       "3  CTGGAGTTCAGACGAGGAGAAACCAGCCTTTTTACATTTATTTAAA...   \n",
       "4  CTGGAGTTCAGACGAGGAGAAACCAGCCTTCACCCGGAAGCTTTTT...   \n",
       "\n",
       "                                       True_Sequence  \n",
       "0  TTACTTTAAAGTGTAAACACTGGATGCTTACACAGCTGTGCGGCGC...  \n",
       "1  CCCCGGTATATTCACCGACAAATACGTAACGACTGCGGATCAAATT...  \n",
       "2  TACAACCTATTTCCGGGATTCGAACCCAATACTGCGGATTACGTTT...  \n",
       "3  TTTTACATTTATTTAAAATCCAAATTTTCCCACAGCTGAATGAAAT...  \n",
       "4  TCACCCGGAAGCTTTTTTGGGACTGACGAAACTGCGGTCGATTCAG...  "
      ]
     },
     "execution_count": 3,
     "metadata": {},
     "output_type": "execute_result"
    }
   ],
   "source": [
    "# Import the selected enhancers that were ordered and sent off for sequencing \n",
    "enh = pd.read_csv('../20191025_MR_Selected-SN-Library-Enhancers.txt',header=None)\n",
    "\n",
    "# There are still adapters added to all of the sequences, so remove those first before previewing the dataframe\n",
    "prime5 = 'CTGGAGTTCAGACGAGGAGAAACCAGCCT'\n",
    "prime3 = 'GAAAACCATTCTCCTCTTCTAGAGGATCT'\n",
    "\n",
    "enh.columns = ['Raw_Sequence']\n",
    "enh['True_Sequence'] = enh.apply(lambda r: r['Raw_Sequence'].replace(prime5,'').replace(prime3,''),axis=1)\n",
    "\n",
    "print(f\"There are a total of {enh.shape[0]} enhancers in our SN library:\")\n",
    "enh.head() # preview the dataframe"
   ]
  },
  {
   "cell_type": "markdown",
   "id": "selected-woman",
   "metadata": {},
   "source": [
    "---"
   ]
  },
  {
   "cell_type": "markdown",
   "id": "romantic-trainer",
   "metadata": {},
   "source": [
    "## Determine the Dictionary Members that have an Exact versus Non-Exact Match to the SN130 Set"
   ]
  },
  {
   "cell_type": "code",
   "execution_count": 4,
   "id": "heavy-penguin",
   "metadata": {},
   "outputs": [
    {
     "name": "stdout",
     "output_type": "stream",
     "text": [
      "EXACT MATCH: There are 640 unique sequences, Barcode-Enhancer Combinations (98 enhancers, 4824810.0 reads)\n",
      "NOT EXACT  : There are 59 unique sequences, Barcode-Enhancer Combinations (42 enhancers, 585803.0 reads)\n"
     ]
    }
   ],
   "source": [
    "df_exact = df.loc[df['Enhancer'].isin(enh['True_Sequence'])]\n",
    "df_not_exact = df.loc[~(df['Enhancer'].isin(enh['True_Sequence']))]\n",
    "\n",
    "print(f\"EXACT MATCH: There are {df_exact.shape[0]} unique sequences, Barcode-Enhancer Combinations ({len(df_exact['Enhancer'].unique())} enhancers, {df_exact['Raw_Counts'].sum()} reads)\")\n",
    "print(f\"NOT EXACT  : There are {df_not_exact.shape[0]} unique sequences, Barcode-Enhancer Combinations ({len(df_not_exact['Enhancer'].unique())} enhancers, {df_not_exact['Raw_Counts'].sum()} reads)\")"
   ]
  },
  {
   "cell_type": "code",
   "execution_count": 5,
   "id": "prospective-bryan",
   "metadata": {},
   "outputs": [],
   "source": [
    "# Store whether or not an enhancer is an exact or not exact match within the column\n",
    "df['Type_of_Match'] = df.apply(lambda r: 'EXACT_MATCH' if r['Enhancer'] in list(enh['True_Sequence']) else 'NOT_EXACT_MATCH', axis=1)"
   ]
  },
  {
   "cell_type": "markdown",
   "id": "quick-croatia",
   "metadata": {},
   "source": [
    "### Visualize the Correlation Between Exact or Non-Exact Enhancer Matches and Enhancer Length"
   ]
  },
  {
   "cell_type": "markdown",
   "id": "meaning-index",
   "metadata": {},
   "source": [
    "We know that our enhancers should be between 69~70 bp. \n",
    "\n",
    "We can compare that information to whether or not an enhancer indicated it was an exact or non-exact match to the set of enhancers that we ordered to include within our library."
   ]
  },
  {
   "cell_type": "code",
   "execution_count": 6,
   "id": "dying-valve",
   "metadata": {},
   "outputs": [
    {
     "name": "stderr",
     "output_type": "stream",
     "text": [
      "/home/mragsac/miniconda3/envs/analysis/lib/python3.8/site-packages/numpy/core/_asarray.py:83: VisibleDeprecationWarning: Creating an ndarray from ragged nested sequences (which is a list-or-tuple of lists-or-tuples-or ndarrays with different lengths or shapes) is deprecated. If you meant to do this, you must specify 'dtype=object' when creating the ndarray\n",
      "  return array(a, dtype, copy=False, order=order)\n"
     ]
    },
    {
     "data": {
      "image/png": "[encoded data removed]",
      "text/plain": [
       "<Figure size 1008x432 with 1 Axes>"
      ]
     },
     "metadata": {
      "needs_background": "light"
     },
     "output_type": "display_data"
    }
   ],
   "source": [
    "plt.figure(figsize=(14,6));\n",
    "\n",
    "# Separate the data based on the type of match the enhancer had\n",
    "data = [list(enh.apply(lambda r: len(r['True_Sequence']), axis=1)),\n",
    "        list(df.loc[df['Type_of_Match'] == \"EXACT_MATCH\"]['Enhancer_Length']),\n",
    "        list(df.loc[df['Type_of_Match'] == \"NOT_EXACT_MATCH\"]['Enhancer_Length'])]\n",
    "\n",
    "# Plot the distribution of enhancer lengths\n",
    "plt.violinplot(data,showmeans=True,showextrema=True,showmedians=True,points=600);\n",
    "plt.title(\"Distribution of Enhancer Lengths in Comparison to Exact and Non-Exact Match Enhancer Sequences\");\n",
    "plt.xlabel(\"Condition\");\n",
    "plt.xticks([1.0,2.0,3.0],['Ordered SN Library','Dictionary Sequencing Exact Match','Dictionary Sequencing Non-Exact Match']);\n",
    "plt.ylabel(\"Enhancer Length (bp)\");"
   ]
  },
  {
   "cell_type": "markdown",
   "id": "brazilian-thanksgiving",
   "metadata": {},
   "source": [
    "---"
   ]
  },
  {
   "cell_type": "markdown",
   "id": "interim-corner",
   "metadata": {},
   "source": [
    "## Filter for Enhancers with the Proper Length\n",
    "\n",
    "Based on the distributions of enhancer lengths between the SN Library that we ordered versus the exact and non-exact matches from the dictionary sequencing of our library, we have a maximum enhancer length of ~70 bp. For the non-exact matches, we can see that there are many outliers that are present. As a next step, we can filter out these outliers to hopefully have a set of \"true\" enhancers to use in our future analyses."
   ]
  },
  {
   "cell_type": "code",
   "execution_count": 7,
   "id": "mathematical-ready",
   "metadata": {},
   "outputs": [
    {
     "name": "stdout",
     "output_type": "stream",
     "text": [
      "The maximum enhancer length present within the SN library we ordered is: 69 bp\n",
      "The minimum enhancer length present within the SN library we ordered is: 67 bp\n"
     ]
    }
   ],
   "source": [
    "print(f\"The maximum enhancer length present within the SN library we ordered is: {enh.apply(lambda r: len(r['True_Sequence']), axis=1).max()} bp\")\n",
    "print(f\"The minimum enhancer length present within the SN library we ordered is: {enh.apply(lambda r: len(r['True_Sequence']), axis=1).min()} bp\")"
   ]
  },
  {
   "cell_type": "code",
   "execution_count": 8,
   "id": "sixth-speaking",
   "metadata": {},
   "outputs": [
    {
     "name": "stdout",
     "output_type": "stream",
     "text": [
      "Before Filtering: There are 699 unique sequences in the dictionary (5410613.0 reads)\n",
      "-1- Removing >69: There are 675 unique sequences in the dictionary (5226391.0 reads)\n",
      "-2- Removing <67: There are 654 unique sequences in the dictionary (4996554.0 reads)\n",
      "\n"
     ]
    }
   ],
   "source": [
    "df_filtMax = df.loc[df['Enhancer_Length'] <= 69]\n",
    "df_filtMax_filtMin = df_filtMax.loc[df_filtMax['Enhancer_Length'] >= 67]\n",
    "\n",
    "print(f\"Before Filtering: There are {df.shape[0]} unique sequences in the dictionary ({df['Raw_Counts'].sum()} reads)\")\n",
    "print(f\"-1- Removing >69: There are {df_filtMax.shape[0]} unique sequences in the dictionary ({df_filtMax['Raw_Counts'].sum()} reads)\")\n",
    "print(f\"-2- Removing <67: There are {df_filtMax_filtMin.shape[0]} unique sequences in the dictionary ({df_filtMax_filtMin['Raw_Counts'].sum()} reads)\\n\")"
   ]
  },
  {
   "cell_type": "code",
   "execution_count": 9,
   "id": "concerned-shelter",
   "metadata": {},
   "outputs": [
    {
     "name": "stdout",
     "output_type": "stream",
     "text": [
      "Evaluating the Enhancers and Barcodes Left in the Analysis\n",
      "==========================================================\n",
      "Number of Exact Match Enhancers:\t98\n",
      "-----Unique Enhancer-Barcode Matches:\t640\n",
      "\n",
      "Number of Non-Exact Match Enhancers:\t10\n",
      "-----Unique Enhancer-Barcode Matches:\t14\n"
     ]
    }
   ],
   "source": [
    "print(\"Evaluating the Enhancers and Barcodes Left in the Analysis\")\n",
    "print(\"==========================================================\")\n",
    "\n",
    "print(f\"Number of Exact Match Enhancers:\\t{len(df_filtMax_filtMin.loc[df_filtMax_filtMin['Type_of_Match'] == 'EXACT_MATCH']['Enhancer'].unique())}\")\n",
    "print(f\"-----Unique Enhancer-Barcode Matches:\\t{df_filtMax_filtMin.loc[df_filtMax_filtMin['Type_of_Match'] == 'EXACT_MATCH'].shape[0]}\\n\")\n",
    "\n",
    "print(f\"Number of Non-Exact Match Enhancers:\\t{len(df_filtMax_filtMin.loc[df_filtMax_filtMin['Type_of_Match'] == 'NOT_EXACT_MATCH']['Enhancer'].unique())}\")\n",
    "print(f\"-----Unique Enhancer-Barcode Matches:\\t{df_filtMax_filtMin.loc[df_filtMax_filtMin['Type_of_Match'] == 'NOT_EXACT_MATCH'].shape[0]}\")"
   ]
  },
  {
   "cell_type": "markdown",
   "id": "sorted-assessment",
   "metadata": {},
   "source": [
    "---"
   ]
  },
  {
   "cell_type": "markdown",
   "id": "raising-layout",
   "metadata": {},
   "source": [
    "## Determine the Difference Between Non-Exact Matches and Dictionary Sequences"
   ]
  },
  {
   "cell_type": "code",
   "execution_count": 10,
   "id": "available-partner",
   "metadata": {},
   "outputs": [
    {
     "name": "stdout",
     "output_type": "stream",
     "text": [
      "Enhancer: TTACTTTAAAGTGTAAACACTGGATGCTTACACAGCTGTGCGGCACCCTATGTTGCCATTGTGGATAT\t| Length: 68\n",
      "Enhancer: GCATCCTTTTTTAACAAGCAGCTATCTTTACCGCAGTCGTAACAATCCCTACACTGCAAGTGTGAAT\t| Length: 67\n",
      "Enhancer: CCCATGGGAGCCTGGATTAGTGGAAATCCCACAGCGGGGTTAGGCATATACATTCTTTGGAAAATTAT\t| Length: 68\n",
      "Enhancer: GTTCAGGTTGTCACTACAGCTAGAGTTCACCGCTGTGATACATTGGTAGCATCCATTGATAAGGTGC\t| Length: 67\n",
      "Enhancer: GTTTTGGATCTTCTATTAATAAATCATCAACCGCAGTGAGAATGTAACGAACAGTTTGTTCTTTTGA\t| Length: 67\n",
      "Enhancer: CAAGCGTGGAAATTTCCTTCAGTTTTCTTGCACAGCTGAATAGTTGTTCTTTACTTTTAATATCATCCA\t| Length: 69\n",
      "Enhancer: CCCCGGTATATTCACCGACAAATACGTAACGACTGCGGATCAAATTTCCATTCTTTCGCACATTTTTG\t| Length: 68\n",
      "Enhancer: CTTCAAACTTGTCCGAATCATCCGTTGTGTCCGCTGTGTCAATCGTTCCAACTCCCAAACCTGAACG\t| Length: 67\n",
      "Enhancer: CTTTTGCAGATATTAATACTGGATGGAGCCAACTGCGGGCATGGATCCTTATTCACGACATAAACTAT\t| Length: 68\n",
      "Enhancer: CCCGGTATATTCACCGACAAATACGTAACGACTGCGGATCAAATTTCCATTCCTTCGCACATTTTTG\t| Length: 67\n"
     ]
    }
   ],
   "source": [
    "nonExactEnh = df_filtMax_filtMin.loc[df_filtMax_filtMin['Type_of_Match'] == 'NOT_EXACT_MATCH']['Enhancer'].unique()\n",
    "\n",
    "for seq in nonExactEnh:\n",
    "    print(f\"Enhancer: {seq}\\t| Length: {len(seq)}\")"
   ]
  },
  {
   "cell_type": "code",
   "execution_count": 11,
   "id": "dense-visibility",
   "metadata": {},
   "outputs": [],
   "source": [
    "def hamming_distance(seq1,seq2):\n",
    "    \"\"\"Helper Method:\n",
    "    Determines the Hamming Distance (# mismatches) between two sequences\n",
    "    \"\"\"\n",
    "    return(sum([1 for i,j in zip(seq1,seq2) if i != j]))"
   ]
  },
  {
   "cell_type": "code",
   "execution_count": 12,
   "id": "confirmed-leone",
   "metadata": {},
   "outputs": [
    {
     "name": "stdout",
     "output_type": "stream",
     "text": [
      "Enhancer: TTACTTTAAAGTGTAAACACTGGATGCTTACACAGCTGTGCGGCACCCTATGTTGCCATTGTGGATAT\t| Length: 68\n",
      "Minimum Hamming Distance to True Enhancer Matches: 1\n",
      "MATCH---TTACTTTAAAGTGTAAACACTGGATGCTTACACAGCTGTGCGGCGCCCTATGTTGCCATTGTGGATAT\n",
      "\n",
      "Enhancer: GCATCCTTTTTTAACAAGCAGCTATCTTTACCGCAGTCGTAACAATCCCTACACTGCAAGTGTGAAT\t| Length: 67\n",
      "Minimum Hamming Distance to True Enhancer Matches: 1\n",
      "MATCH---GCATCCTTTTTTAACAAGCAGCTATCTTTACCGCAGTCGTAACAATCCCCACACTGCAAGTGTGAAT\n",
      "\n",
      "Enhancer: CCCATGGGAGCCTGGATTAGTGGAAATCCCACAGCGGGGTTAGGCATATACATTCTTTGGAAAATTAT\t| Length: 68\n",
      "Minimum Hamming Distance to True Enhancer Matches: 27\n",
      "MATCH---CCCATGGGAGCCTGGATTAGTGGAAAGTCCCACAGCGGGGTTAGGCATATACATTCTTTGGAAAATTAT\n",
      "\n",
      "Enhancer: GTTCAGGTTGTCACTACAGCTAGAGTTCACCGCTGTGATACATTGGTAGCATCCATTGATAAGGTGC\t| Length: 67\n",
      "Minimum Hamming Distance to True Enhancer Matches: 41\n",
      "MATCH---TATCACTGTCGTGGTACCGGAAAATTTATCCCAGCTGTGATACCGGAAATTTTATCTCAGTCGTGGTAC\n",
      "\n",
      "Enhancer: GTTTTGGATCTTCTATTAATAAATCATCAACCGCAGTGAGAATGTAACGAACAGTTTGTTCTTTTGA\t| Length: 67\n",
      "Minimum Hamming Distance to True Enhancer Matches: 1\n",
      "MATCH---GTTTTGGATCTTCCATTAATAAATCATCAACCGCAGTGAGAATGTAACGAACAGTTTGTTCTTTTGA\n",
      "\n",
      "Enhancer: CAAGCGTGGAAATTTCCTTCAGTTTTCTTGCACAGCTGAATAGTTGTTCTTTACTTTTAATATCATCCA\t| Length: 69\n",
      "Minimum Hamming Distance to True Enhancer Matches: 8\n",
      "MATCH---CAAGCGTGGAAATTTCCTTCAGTTTTCTTGCACAGCTGAATAGTTGTTCTTTACTTTTATATCATCCA\n",
      "\n",
      "Enhancer: CCCCGGTATATTCACCGACAAATACGTAACGACTGCGGATCAAATTTCCATTCTTTCGCACATTTTTG\t| Length: 68\n",
      "Minimum Hamming Distance to True Enhancer Matches: 1\n",
      "MATCH---CCCCGGTATATTCACCGACAAATACGTAACGACTGCGGATCAAATTTCCATTCCTTCGCACATTTTTG\n",
      "\n",
      "Enhancer: CTTCAAACTTGTCCGAATCATCCGTTGTGTCCGCTGTGTCAATCGTTCCAACTCCCAAACCTGAACG\t| Length: 67\n",
      "Minimum Hamming Distance to True Enhancer Matches: 13\n",
      "MATCH---CTTCAAACTTGTCCGAATCATCCGTTGTGTCCGCTGTGTCAATCGCTTCCAACTCCCAAACCTGAACG\n",
      "\n",
      "Enhancer: CTTTTGCAGATATTAATACTGGATGGAGCCAACTGCGGGCATGGATCCTTATTCACGACATAAACTAT\t| Length: 68\n",
      "Minimum Hamming Distance to True Enhancer Matches: 31\n",
      "MATCH---CTTTTGCAGATATTAATACTGGATGAGCCAACTGCGGGCATGGATCCCTATTCACGACATAAACTAT\n",
      "\n",
      "Enhancer: CCCGGTATATTCACCGACAAATACGTAACGACTGCGGATCAAATTTCCATTCCTTCGCACATTTTTG\t| Length: 67\n",
      "Minimum Hamming Distance to True Enhancer Matches: 36\n",
      "MATCH---CGCGCCAGGGAAAACTGCCGGGAAAATACAACTGCGGACCAGATTTTTGTTTTTTACATGCCTGTTC\n",
      "MATCH---AAACGTACCTTGACTGACGTCTCCGTTAGAACTGCGGTCTGGAACATTTATAAATGTTGGATTTTTA\n",
      "\n"
     ]
    }
   ],
   "source": [
    "nonExact_comparisons = {}\n",
    "for seq in nonExactEnh:\n",
    "    nonExact_comparisons[seq] = {}\n",
    "    current_minimum = 1000000\n",
    "    minimum_matches = []\n",
    "    \n",
    "    # Go through all of the enhancers that we ordered/expect to see\n",
    "    # and determine the \"minimum\" match (lowest hamming distance) for \n",
    "    # diagnostic purposes\n",
    "    for true_enh in enh['True_Sequence']:\n",
    "        nonExact_comparisons[seq][true_enh] = hamming_distance(seq,true_enh)\n",
    "        if nonExact_comparisons[seq][true_enh] < current_minimum: \n",
    "            current_minimum = nonExact_comparisons[seq][true_enh]\n",
    "            minimum_matches = [true_enh]\n",
    "        elif nonExact_comparisons[seq][true_enh] == current_minimum:\n",
    "            minimum_matches.append(true_enh)\n",
    "    \n",
    "    # Share some diagnostic statements\n",
    "    print(f\"Enhancer: {seq}\\t| Length: {len(seq)}\")\n",
    "    print(f\"Minimum Hamming Distance to True Enhancer Matches: {current_minimum}\")\n",
    "    for true_enh in minimum_matches:\n",
    "        print(f\"MATCH---{true_enh}\")\n",
    "    print(\"\")"
   ]
  },
  {
   "cell_type": "markdown",
   "id": "growing-winner",
   "metadata": {},
   "source": [
    "Looking at these results, there are some enhancers that have a single bp difference to the enhancer that we were expecting to see.\n",
    "\n",
    "To make things easier, we will only consider exact matches, but we can also keep these enhancers in mind as they are in the dictionary."
   ]
  },
  {
   "cell_type": "markdown",
   "id": "willing-liverpool",
   "metadata": {},
   "source": [
    "---"
   ]
  },
  {
   "cell_type": "markdown",
   "id": "classical-coating",
   "metadata": {},
   "source": [
    "## Determine the Barcodes Associated with Each Unique Enhancer Sequence"
   ]
  },
  {
   "cell_type": "code",
   "execution_count": 13,
   "id": "developmental-notice",
   "metadata": {},
   "outputs": [
    {
     "name": "stdout",
     "output_type": "stream",
     "text": [
      "Number of Total Barcodes:\t640\n",
      "Number of Total Enhancers:\t98\n",
      "Number of Unique Barcodes:\t640\n",
      "Number of Mult-Mat Barcodes:\t0\n"
     ]
    }
   ],
   "source": [
    "# Make the naming easier\n",
    "df = df_filtMax_filtMin \n",
    "\n",
    "# Define two dictionaries to hold the enhancers associated with each\n",
    "# barcode, and the barcodes associated with each enhancer for easier lookup\n",
    "barcode2enhancer, enhancer2barcode = {}, {}\n",
    "\n",
    "# Go through each unique enhancer, and determine its barcodes\n",
    "for enh in sorted(df['Enhancer'].unique()):\n",
    "    if enh in nonExactEnh: \n",
    "        continue # don't consider exact matches\n",
    "    \n",
    "    if enh not in enhancer2barcode:\n",
    "        enhancer2barcode[enh] = {}\n",
    "    \n",
    "    # Gather the rows associated with each enhancer to determine\n",
    "    # the barcodes associated with the enhancer\n",
    "    enh_subset = df.loc[df['Enhancer'] == enh]\n",
    "    for bc in enh_subset['Barcode']:\n",
    "        if bc not in enhancer2barcode[enh]:\n",
    "            enhancer2barcode[enh][bc] = []\n",
    "            \n",
    "        # Determine the counts of the enhancer-barcode combination\n",
    "        bc_enh_counts = enh_subset.loc[enh_subset['Barcode'] == bc]['Raw_Counts'].values\n",
    "        enhancer2barcode[enh][bc] += list(bc_enh_counts)\n",
    "        \n",
    "        # Fill out the converse dictionary (bc to enh)\n",
    "        if bc not in barcode2enhancer:\n",
    "            barcode2enhancer[bc] = {}\n",
    "        if enh not in barcode2enhancer[bc]:\n",
    "            barcode2enhancer[bc][enh] = []\n",
    "        barcode2enhancer[bc][enh] += list(bc_enh_counts)\n",
    "        \n",
    "print(f\"Number of Total Barcodes:\\t{len(barcode2enhancer)}\")\n",
    "print(f\"Number of Total Enhancers:\\t{len(enhancer2barcode)}\")\n",
    "\n",
    "# Also determine the unique barcodes (barcode has a unique association with an enhancer)\n",
    "# and multiple-matched (MM) barcodes (barcode matches to multiple enhancers)\n",
    "print(f\"Number of Unique Barcodes:\\t{len({bc:len(barcode2enhancer[bc]) for bc in barcode2enhancer if len(barcode2enhancer[bc]) == 1})}\")\n",
    "print(f\"Number of Mult-Mat Barcodes:\\t{len({bc:len(barcode2enhancer[bc]) for bc in barcode2enhancer if len(barcode2enhancer[bc]) > 1})}\")"
   ]
  },
  {
   "cell_type": "code",
   "execution_count": 14,
   "id": "individual-short",
   "metadata": {},
   "outputs": [
    {
     "data": {
      "text/plain": [
       "EXACT_MATCH        640\n",
       "NOT_EXACT_MATCH     14\n",
       "Name: Type_of_Match, dtype: int64"
      ]
     },
     "execution_count": 14,
     "metadata": {},
     "output_type": "execute_result"
    }
   ],
   "source": [
    "df['Type_of_Match'].value_counts()"
   ]
  },
  {
   "cell_type": "markdown",
   "id": "impressive-observation",
   "metadata": {},
   "source": [
    "### Plot the Distribution of Barcodes Associated with Each Enhancer"
   ]
  },
  {
   "cell_type": "code",
   "execution_count": 15,
   "id": "federal-dallas",
   "metadata": {},
   "outputs": [
    {
     "data": {
      "image/png": "[encoded data removed]",
      "text/plain": [
       "<Figure size 720x432 with 1 Axes>"
      ]
     },
     "metadata": {
      "needs_background": "light"
     },
     "output_type": "display_data"
    }
   ],
   "source": [
    "num_barcodes = pd.Series([len(enhancer2barcode[enh]) for enh in enhancer2barcode])\n",
    "\n",
    "plt.figure(figsize=(10,6));\n",
    "plt.bar(num_barcodes.value_counts().index,num_barcodes.value_counts());\n",
    "plt.xlabel('Number of Barcodes');\n",
    "plt.ylabel('Number of Enhancers');\n",
    "plt.title('Distribution of Barcodes Associated with Each Enhancer');"
   ]
  },
  {
   "cell_type": "code",
   "execution_count": 16,
   "id": "decimal-backing",
   "metadata": {},
   "outputs": [
    {
     "name": "stdout",
     "output_type": "stream",
     "text": [
      "The Mean Number of Barcodes per Enhancer: 6.530612244897959\n",
      "The Medium Number of Barcodes per Enhancer: 5.0\n"
     ]
    }
   ],
   "source": [
    "print(f\"The Mean Number of Barcodes per Enhancer: {num_barcodes.mean()}\")\n",
    "print(f\"The Medium Number of Barcodes per Enhancer: {num_barcodes.median()}\")"
   ]
  },
  {
   "cell_type": "code",
   "execution_count": 17,
   "id": "banner-lodging",
   "metadata": {},
   "outputs": [
    {
     "data": {
      "image/png": "[encoded data removed]",
      "text/plain": [
       "<Figure size 504x432 with 1 Axes>"
      ]
     },
     "metadata": {
      "needs_background": "light"
     },
     "output_type": "display_data"
    }
   ],
   "source": [
    "num_barcodes = pd.Series([len(enhancer2barcode[enh]) for enh in enhancer2barcode])\n",
    "\n",
    "plt.figure(figsize=(7,6));\n",
    "plt.bar(num_barcodes.value_counts().index,num_barcodes.value_counts(),color='grey');\n",
    "plt.xlabel('Number of Barcodes');\n",
    "plt.ylabel('Number of Enhancers');"
   ]
  },
  {
   "cell_type": "markdown",
   "id": "automotive-spell",
   "metadata": {},
   "source": [
    "---"
   ]
  },
  {
   "cell_type": "markdown",
   "id": "aware-demonstration",
   "metadata": {},
   "source": [
    "## Export the Evaluated Dictionary"
   ]
  },
  {
   "cell_type": "code",
   "execution_count": 18,
   "id": "eight-wesley",
   "metadata": {},
   "outputs": [
    {
     "name": "stdout",
     "output_type": "stream",
     "text": [
      "We have a total of 98 enhancers to export ... Done!\n"
     ]
    }
   ],
   "source": [
    "output = ['Barcode_Sequence\\tBarcode_Type\\tEnhancer_Sequence\\tNum_Barcode-Enhancer_Occurences\\tTotal_Enhancer_Occurences\\tType_of_Match']\n",
    "\n",
    "print(f\"We have a total of {len(enhancer2barcode)} enhancers to export ...\",end=\" \")\n",
    "\n",
    "# Export the dictionary as a CSV file for downstream analyses\n",
    "# and easier human readable interpretation\n",
    "for enh in enhancer2barcode:\n",
    "    # Determine the total reads affiliated with the enhancer\n",
    "    total_reads = sum([enhancer2barcode[enh][bc][0] for bc in enhancer2barcode[enh]])\n",
    "    \n",
    "    # Determine the type of match for the enhancer to our SN130 dataset\n",
    "    type_of_match = df.loc[df['Enhancer'] == enh]['Type_of_Match'].values[0]\n",
    "    \n",
    "    # Go through each barcode and add a new line to our output containing:\n",
    "    # [BARCODE] [BC_TYPE] [ENHANCER_SEQUENCE] [NUM_BC_ENH] [TOTAL_ENH]\n",
    "    for bc in sorted(enhancer2barcode[enh]):\n",
    "        output.append( # all of our barcodes are unique\n",
    "            f\"{bc}\\tu\\t{enh}\\t{enhancer2barcode[enh][bc][0]}\\t{total_reads}\\t{type_of_match}\")\n",
    "        \n",
    "# Output the file and the dataframe\n",
    "open('outputs/02_MR_SN-720bc_Comparing-Dictionary-to-SN130_dictionary-output.tsv','w').write('\\n'.join(output))\n",
    "pickle.dump(df,open('outputs/02_MR_SN-720bc_Comparing-Dictionary-to-SN130_filtered-output.pickle','wb'))\n",
    "print(\"Done!\")"
   ]
  },
  {
   "cell_type": "markdown",
   "id": "prepared-slovak",
   "metadata": {},
   "source": [
    "### Export the Barcodes Associated with Each Enhancer from the Dictionary"
   ]
  },
  {
   "cell_type": "code",
   "execution_count": 19,
   "id": "documentary-joshua",
   "metadata": {},
   "outputs": [
    {
     "data": {
      "text/html": [
       "<div>\n",
       "<style scoped>\n",
       "    .dataframe tbody tr th:only-of-type {\n",
       "        vertical-align: middle;\n",
       "    }\n",
       "\n",
       "    .dataframe tbody tr th {\n",
       "        vertical-align: top;\n",
       "    }\n",
       "\n",
       "    .dataframe thead th {\n",
       "        text-align: right;\n",
       "    }\n",
       "</style>\n",
       "<table border=\"1\" class=\"dataframe\">\n",
       "  <thead>\n",
       "    <tr style=\"text-align: right;\">\n",
       "      <th></th>\n",
       "      <th>Enhancer</th>\n",
       "      <th>Number_of_Barcodes</th>\n",
       "      <th>Type_of_Match</th>\n",
       "    </tr>\n",
       "  </thead>\n",
       "  <tbody>\n",
       "    <tr>\n",
       "      <th>0</th>\n",
       "      <td>AAAACGAAAGTAGTTCCTGATTACAAATTCCCGCAGTAAGCATTTC...</td>\n",
       "      <td>17</td>\n",
       "      <td>EXACT_MATCH</td>\n",
       "    </tr>\n",
       "    <tr>\n",
       "      <th>1</th>\n",
       "      <td>AAAAGGAATCTGATTTATCTGGCATCGCCTCCAGCTGTGTTCGTCT...</td>\n",
       "      <td>1</td>\n",
       "      <td>EXACT_MATCH</td>\n",
       "    </tr>\n",
       "    <tr>\n",
       "      <th>2</th>\n",
       "      <td>AAAGTCATACGATGGATGACATGCTCCGCAACTGCGGAAATCCGTG...</td>\n",
       "      <td>1</td>\n",
       "      <td>EXACT_MATCH</td>\n",
       "    </tr>\n",
       "    <tr>\n",
       "      <th>3</th>\n",
       "      <td>AAATAGTGATGACGTGTCACCTGTCCCACACACAGCTGCTGAACGG...</td>\n",
       "      <td>2</td>\n",
       "      <td>EXACT_MATCH</td>\n",
       "    </tr>\n",
       "    <tr>\n",
       "      <th>4</th>\n",
       "      <td>AACCCGGATGTCTCGGCCTTATTCCTTTGAACTGCGGCCGGTGACC...</td>\n",
       "      <td>6</td>\n",
       "      <td>EXACT_MATCH</td>\n",
       "    </tr>\n",
       "  </tbody>\n",
       "</table>\n",
       "</div>"
      ],
      "text/plain": [
       "                                            Enhancer  Number_of_Barcodes  \\\n",
       "0  AAAACGAAAGTAGTTCCTGATTACAAATTCCCGCAGTAAGCATTTC...                  17   \n",
       "1  AAAAGGAATCTGATTTATCTGGCATCGCCTCCAGCTGTGTTCGTCT...                   1   \n",
       "2  AAAGTCATACGATGGATGACATGCTCCGCAACTGCGGAAATCCGTG...                   1   \n",
       "3  AAATAGTGATGACGTGTCACCTGTCCCACACACAGCTGCTGAACGG...                   2   \n",
       "4  AACCCGGATGTCTCGGCCTTATTCCTTTGAACTGCGGCCGGTGACC...                   6   \n",
       "\n",
       "  Type_of_Match  \n",
       "0   EXACT_MATCH  \n",
       "1   EXACT_MATCH  \n",
       "2   EXACT_MATCH  \n",
       "3   EXACT_MATCH  \n",
       "4   EXACT_MATCH  "
      ]
     },
     "execution_count": 19,
     "metadata": {},
     "output_type": "execute_result"
    }
   ],
   "source": [
    "# Determine the number of barcodes associated with each enhancer and the type of match to the SN130 dataset\n",
    "df_enhNumBC = df.groupby('Enhancer').apply(lambda r: [len(r['Barcode'].unique()), r['Type_of_Match'].unique()[0]]).reset_index()\n",
    "df_enhNumBC['Number_of_Barcodes'] = df_enhNumBC.apply(lambda r: r[0][0], axis=1)\n",
    "df_enhNumBC['Type_of_Match'] = df_enhNumBC.apply(lambda r: r[0][1], axis=1)\n",
    "\n",
    "# Determine the columns we'd like to keep then preview the resulting dataframe\n",
    "df_enhNumBC = df_enhNumBC[['Enhancer','Number_of_Barcodes','Type_of_Match']]\n",
    "df_enhNumBC.head()"
   ]
  },
  {
   "cell_type": "code",
   "execution_count": 20,
   "id": "variable-consultation",
   "metadata": {},
   "outputs": [
    {
     "data": {
      "text/html": [
       "<div>\n",
       "<style scoped>\n",
       "    .dataframe tbody tr th:only-of-type {\n",
       "        vertical-align: middle;\n",
       "    }\n",
       "\n",
       "    .dataframe tbody tr th {\n",
       "        vertical-align: top;\n",
       "    }\n",
       "\n",
       "    .dataframe thead th {\n",
       "        text-align: right;\n",
       "    }\n",
       "</style>\n",
       "<table border=\"1\" class=\"dataframe\">\n",
       "  <thead>\n",
       "    <tr style=\"text-align: right;\">\n",
       "      <th></th>\n",
       "      <th>Enhancer</th>\n",
       "      <th>Associated_Barcodes</th>\n",
       "    </tr>\n",
       "  </thead>\n",
       "  <tbody>\n",
       "    <tr>\n",
       "      <th>0</th>\n",
       "      <td>AAAACGAAAGTAGTTCCTGATTACAAATTCCCGCAGTAAGCATTTC...</td>\n",
       "      <td>CATAATACAACCCGACGTTGAAGGACGATA,GAAAACGAGAGGATT...</td>\n",
       "    </tr>\n",
       "    <tr>\n",
       "      <th>1</th>\n",
       "      <td>AAAAGGAATCTGATTTATCTGGCATCGCCTCCAGCTGTGTTCGTCT...</td>\n",
       "      <td>AGACCAATGAAAAATGAATAAAAAAACATG</td>\n",
       "    </tr>\n",
       "    <tr>\n",
       "      <th>2</th>\n",
       "      <td>AAAGTCATACGATGGATGACATGCTCCGCAACTGCGGAAATCCGTG...</td>\n",
       "      <td>CAGACGAATTTCATTTAATCATCGATATAA</td>\n",
       "    </tr>\n",
       "    <tr>\n",
       "      <th>3</th>\n",
       "      <td>AAATAGTGATGACGTGTCACCTGTCCCACACACAGCTGCTGAACGG...</td>\n",
       "      <td>TTTAGCAATAACCCAAATACACGGAGCCAA,AAAACTTGATGACGT...</td>\n",
       "    </tr>\n",
       "    <tr>\n",
       "      <th>4</th>\n",
       "      <td>AACCCGGATGTCTCGGCCTTATTCCTTTGAACTGCGGCCGGTGACC...</td>\n",
       "      <td>TTCAATACTAAGAACCCGATTAGAACTACT,CAAAGACTCTCTTCA...</td>\n",
       "    </tr>\n",
       "  </tbody>\n",
       "</table>\n",
       "</div>"
      ],
      "text/plain": [
       "                                            Enhancer  \\\n",
       "0  AAAACGAAAGTAGTTCCTGATTACAAATTCCCGCAGTAAGCATTTC...   \n",
       "1  AAAAGGAATCTGATTTATCTGGCATCGCCTCCAGCTGTGTTCGTCT...   \n",
       "2  AAAGTCATACGATGGATGACATGCTCCGCAACTGCGGAAATCCGTG...   \n",
       "3  AAATAGTGATGACGTGTCACCTGTCCCACACACAGCTGCTGAACGG...   \n",
       "4  AACCCGGATGTCTCGGCCTTATTCCTTTGAACTGCGGCCGGTGACC...   \n",
       "\n",
       "                                 Associated_Barcodes  \n",
       "0  CATAATACAACCCGACGTTGAAGGACGATA,GAAAACGAGAGGATT...  \n",
       "1                     AGACCAATGAAAAATGAATAAAAAAACATG  \n",
       "2                     CAGACGAATTTCATTTAATCATCGATATAA  \n",
       "3  TTTAGCAATAACCCAAATACACGGAGCCAA,AAAACTTGATGACGT...  \n",
       "4  TTCAATACTAAGAACCCGATTAGAACTACT,CAAAGACTCTCTTCA...  "
      ]
     },
     "execution_count": 20,
     "metadata": {},
     "output_type": "execute_result"
    }
   ],
   "source": [
    "df_filt = df.loc[df['Enhancer'].isin(enhancer2barcode)]\n",
    "\n",
    "# Determine the barcodes associated with each enhancer and then preview the resulting dataframe\n",
    "df_enhToBC = df_filt.groupby('Enhancer').apply(lambda r: ','.join(r['Barcode'].unique())).reset_index()\n",
    "df_enhToBC.columns = ['Enhancer','Associated_Barcodes']\n",
    "df_enhToBC.head()"
   ]
  },
  {
   "cell_type": "code",
   "execution_count": 21,
   "id": "atmospheric-throw",
   "metadata": {},
   "outputs": [
    {
     "name": "stdout",
     "output_type": "stream",
     "text": [
      "Done!\n"
     ]
    }
   ],
   "source": [
    "# Export the outputs \n",
    "df_enhNumBC.to_csv('outputs/02_MR_SN-720bc_Comparing-Dictionary-to-SN130_num-bc-per-enhancer.tsv',sep='\\t',index=False)\n",
    "df_enhToBC.to_csv('outputs/02_MR_SN-720bc_Comparing-Dictionary-to-SN130_bc-enhancer-associations.tsv',sep='\\t',index=False)\n",
    "print(\"Done!\")"
   ]
  }
 ],
 "metadata": {
  "kernelspec": {
   "display_name": "Python 3 (ipykernel)",
   "language": "python",
   "name": "python3"
  },
  "language_info": {
   "codemirror_mode": {
    "name": "ipython",
    "version": 3
   },
   "file_extension": ".py",
   "mimetype": "text/x-python",
   "name": "python",
   "nbconvert_exporter": "python",
   "pygments_lexer": "ipython3",
   "version": "3.10.5"
  }
 },
 "nbformat": 4,
 "nbformat_minor": 5
}
